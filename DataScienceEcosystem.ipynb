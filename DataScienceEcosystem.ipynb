{
 "cells": [
  {
   "cell_type": "markdown",
   "id": "47424283",
   "metadata": {},
   "source": [
    "# Data Science Tools and Ecosystem"
   ]
  },
  {
   "cell_type": "markdown",
   "id": "35d47670",
   "metadata": {},
   "source": [
    "In this notebook, Data Science Tools and Ecosystem are summarized."
   ]
  },
  {
   "cell_type": "markdown",
   "id": "bbd3d8d6",
   "metadata": {},
   "source": [
    "Some of the popular languages that Data Scientists use are:\n",
    "1. Python\n",
    "2. R\n",
    "3. Julia\n",
    "4. Scala\n",
    "5. Java\n",
    "6. C++"
   ]
  },
  {
   "cell_type": "markdown",
   "id": "3fcc085c",
   "metadata": {},
   "source": [
    "Some of the commonly used libraries used by Data Scientists include:\n",
    "1. Numpy\n",
    "2. Matplotlib\n",
    "3. Pandas\n",
    "4. Pytorch\n",
    "5. SciPy"
   ]
  },
  {
   "cell_type": "markdown",
   "id": "f2dde47f",
   "metadata": {},
   "source": [
    "|Data Science Tools|\n",
    "|:---|\n",
    "|Spyder            |\n",
    "|Jupyter Notebook  |\n",
    "|RStudio           |\n",
    "|Visual Code Studio|\n"
   ]
  },
  {
   "cell_type": "markdown",
   "id": "1619f95c",
   "metadata": {},
   "source": [
    "### Below are a few examples of evaluating arithmetic expressions in Python"
   ]
  },
  {
   "cell_type": "code",
   "execution_count": 11,
   "id": "57ee5820",
   "metadata": {},
   "outputs": [
    {
     "data": {
      "text/plain": [
       "17"
      ]
     },
     "execution_count": 11,
     "metadata": {},
     "output_type": "execute_result"
    }
   ],
   "source": [
    "(3*4)+5"
   ]
  },
  {
   "cell_type": "code",
   "execution_count": 12,
   "id": "1f4678c0",
   "metadata": {},
   "outputs": [
    {
     "data": {
      "text/plain": [
       "3.3333333333333335"
      ]
     },
     "execution_count": 12,
     "metadata": {},
     "output_type": "execute_result"
    }
   ],
   "source": [
    "# This will convert 200 minutes to hours by diving by 60\n",
    "\n",
    "minutes = 200\n",
    "hours = minutes/60\n",
    "hours\n",
    "\n"
   ]
  },
  {
   "cell_type": "markdown",
   "id": "ccb2f401",
   "metadata": {},
   "source": [
    "### Objectives:\n",
    "* List popular languages for Data Science\n",
    "* List popular open source Data Science Tools\n",
    "* Executed arithmetic operations in Python\n",
    "* Used code and markdown features in Jupyter Notebook"
   ]
  },
  {
   "cell_type": "markdown",
   "id": "201d05ca",
   "metadata": {},
   "source": [
    "## Author: \n",
    "Wesley Kibet"
   ]
  }
 ],
 "metadata": {
  "kernelspec": {
   "display_name": "Python 3 (ipykernel)",
   "language": "python",
   "name": "python3"
  },
  "language_info": {
   "codemirror_mode": {
    "name": "ipython",
    "version": 3
   },
   "file_extension": ".py",
   "mimetype": "text/x-python",
   "name": "python",
   "nbconvert_exporter": "python",
   "pygments_lexer": "ipython3",
   "version": "3.11.5"
  }
 },
 "nbformat": 4,
 "nbformat_minor": 5
}
